{
  "nbformat": 4,
  "nbformat_minor": 0,
  "metadata": {
    "colab": {
      "name": "Test1.ipynb",
      "provenance": [],
      "collapsed_sections": [],
      "authorship_tag": "ABX9TyMGUCgpfMgKGnkGTZtUC3WE",
      "include_colab_link": true
    },
    "kernelspec": {
      "name": "python3",
      "display_name": "Python 3"
    }
  },
  "cells": [
    {
      "cell_type": "markdown",
      "metadata": {
        "id": "view-in-github",
        "colab_type": "text"
      },
      "source": [
        "<a href=\"https://colab.research.google.com/github/AreschanLHU/My_ML_Learn/blob/main/Test1.ipynb\" target=\"_parent\"><img src=\"https://colab.research.google.com/assets/colab-badge.svg\" alt=\"Open In Colab\"/></a>"
      ]
    },
    {
      "cell_type": "code",
      "metadata": {
        "id": "ETmoTG2WN1ln",
        "outputId": "79534082-697a-4600-cf7f-237ffb938cfc",
        "colab": {
          "base_uri": "https://localhost:8080/"
        }
      },
      "source": [
        "x = \"123蛤(123.456.789.012)蛤123\"\n",
        "print(x)"
      ],
      "execution_count": null,
      "outputs": [
        {
          "output_type": "stream",
          "text": [
            "123蛤(123.456.789.012)蛤123\n"
          ],
          "name": "stdout"
        }
      ]
    },
    {
      "cell_type": "code",
      "metadata": {
        "id": "oD4zvB7hOj0t",
        "outputId": "3c8e2d3a-0e6d-4e1a-de82-fdcb869abec8",
        "colab": {
          "base_uri": "https://localhost:8080/"
        }
      },
      "source": [
        "# 提取字串內，需求的內容\n",
        "x = \"123蛤(123.456.7 89.012)蛤123\"\n",
        "print(x)\n",
        "y = \"\"\n",
        "print(\"==========\\n\")\n",
        "\n",
        "for a in x:\n",
        "  \n",
        "  if a == \"1\":\n",
        "    y += a\n",
        "  elif a == \"2\":\n",
        "    y += a\n",
        "  elif a == \"3\":\n",
        "    y += a\n",
        "  elif a == \"4\":\n",
        "    y += a\n",
        "  elif a == \"5\":\n",
        "    y += a\n",
        "  elif a == \"6\":\n",
        "    y += a\n",
        "  elif a == \"7\":\n",
        "    y += a\n",
        "  elif a == \"8\":\n",
        "    y += a\n",
        "  elif a == \"9\":\n",
        "    y += a\n",
        "  elif a == \"0\":\n",
        "    y += a\n",
        "  elif a == \".\":\n",
        "    y += a                \n",
        "  if a == '(':\n",
        "    continue\n",
        "  elif a == '':\n",
        "    continue\n",
        "  elif a == ')':\n",
        "    break\n",
        "\n",
        "print(\"a = \", a)\n",
        "print(\"\\n==========\\n\")\n",
        "print(\"x = \", x)\n",
        "print(\"y = \", y)"
      ],
      "execution_count": null,
      "outputs": [
        {
          "output_type": "stream",
          "text": [
            "123蛤(123.456.7 89.012)蛤123\n",
            "==========\n",
            "\n",
            "a =  )\n",
            "\n",
            "==========\n",
            "\n",
            "x =  123蛤(123.456.7 89.012)蛤123\n",
            "y =  123123.456.789.012\n"
          ],
          "name": "stdout"
        }
      ]
    },
    {
      "cell_type": "code",
      "metadata": {
        "id": "4ISfeTa6riRf",
        "outputId": "f0b68552-598d-4c0a-e962-7dd4c9b6f1fa",
        "colab": {
          "base_uri": "https://localhost:8080/"
        }
      },
      "source": [
        "x = \"123蛤(123.456.789.012)蛤\"\n",
        "print(\"x = \", x)"
      ],
      "execution_count": null,
      "outputs": [
        {
          "output_type": "stream",
          "text": [
            "x =  123蛤(123.456.789.012)蛤\n"
          ],
          "name": "stdout"
        }
      ]
    },
    {
      "cell_type": "code",
      "metadata": {
        "id": "90CSNYkKBtCO",
        "outputId": "de83d323-acba-4269-b3f1-d577bac7f28d",
        "colab": {
          "base_uri": "https://localhost:8080/"
        }
      },
      "source": [
        "# 一個具需求之外部，防呆的使用者輸入 ip 之判定演算法\n",
        "x               # user input\n",
        "y = \"\"\n",
        "c = 0\n",
        "for a in x:\n",
        "  if a == \"(\":\n",
        "    c = c + 1\n",
        "    while x[c] != \")\":\n",
        "      a = x[c]\n",
        "      c = c + 1\n",
        "      if a == \" \":\n",
        "        continue\n",
        "      y = y + a\n",
        "  c = c + 1\n",
        "print(y)"
      ],
      "execution_count": null,
      "outputs": [
        {
          "output_type": "stream",
          "text": [
            "123.456.789.012\n"
          ],
          "name": "stdout"
        }
      ]
    },
    {
      "cell_type": "code",
      "metadata": {
        "id": "VaazIGXtKLQ_",
        "outputId": "a2934c1b-0d5c-4447-c5ca-5db9f8e77ac1",
        "colab": {
          "base_uri": "https://localhost:8080/"
        }
      },
      "source": [
        "# 是我會省略那個 while，用 for 跑完 x\n",
        "x = \"123蛤(1蛤23.456.7 89.012)蛤\"\n",
        "P = 0\n",
        "cc = \"\"\n",
        "import re\n",
        "print(\"x = \", x)\n",
        "rx = re.findall(\"\\d|\\.|\\(|\\)\",x)\n",
        "print(\"rx = \",rx)\n",
        "# print(type(rx))\n",
        "# print(len(rx))\n",
        "for a in rx:\n",
        "  if a == \" \": # <- 要略過的寫一起\n",
        "    continue\n",
        "  else:\n",
        "    re.findall\n",
        "  if a == \"(\":\n",
        "    P = 1\n",
        "  elif a == \")\":\n",
        "    P = 0\n",
        "  elif P == 1:\n",
        "    cc = cc + a\n",
        "print(\"ans = \", cc)\n",
        "print(\"type = \", type(cc))\n",
        "# 這樣可以不用在 while 裡確認 c + 1 會不會超過 x 範圍\n",
        "# 需要考慮 (( 的情況也可以用 bParenthesis 再限制"
      ],
      "execution_count": 23,
      "outputs": [
        {
          "output_type": "stream",
          "text": [
            "x =  123蛤(1蛤23.456.7 89.012)蛤\n",
            "rx =  ['1', '2', '3', '(', '1', '2', '3', '.', '4', '5', '6', '.', '7', '8', '9', '.', '0', '1', '2', ')']\n",
            "ans =  123.456.789.012\n",
            "type =  <class 'str'>\n"
          ],
          "name": "stdout"
        }
      ]
    },
    {
      "cell_type": "code",
      "metadata": {
        "id": "uOppjpEdbT2_"
      },
      "source": [
        "import re\n",
        "y = \"蛤123蛤.456.7 89.012蛤\"\n",
        "ans = re.findall((\"\\d\"), y)\n",
        "print(\"ans = \", ans)\n",
        "print(type(ans))\n",
        "ans = \"\".join(ans)\n",
        "print(\"ans = \", ans)\n",
        "print(type(ans))"
      ],
      "execution_count": null,
      "outputs": []
    }
  ]
}