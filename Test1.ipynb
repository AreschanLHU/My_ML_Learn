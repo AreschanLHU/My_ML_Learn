{
  "nbformat": 4,
  "nbformat_minor": 0,
  "metadata": {
    "colab": {
      "name": "Test1.ipynb",
      "provenance": [],
      "collapsed_sections": [],
      "authorship_tag": "ABX9TyMaNZTwvf5KVg9D6Yaw5NX0",
      "include_colab_link": true
    },
    "kernelspec": {
      "name": "python3",
      "display_name": "Python 3"
    }
  },
  "cells": [
    {
      "cell_type": "markdown",
      "metadata": {
        "id": "view-in-github",
        "colab_type": "text"
      },
      "source": [
        "<a href=\"https://colab.research.google.com/github/AreschanLHU/My_ML_Learn/blob/main/Test1.ipynb\" target=\"_parent\"><img src=\"https://colab.research.google.com/assets/colab-badge.svg\" alt=\"Open In Colab\"/></a>"
      ]
    },
    {
      "cell_type": "code",
      "metadata": {
        "id": "ETmoTG2WN1ln",
        "outputId": "57b4b2b8-f33c-4639-9d5a-81b763d9af88",
        "colab": {
          "base_uri": "https://localhost:8080/"
        }
      },
      "source": [
        "x = \"123蛤(123.456.789.012)蛤123\"\n",
        "print(x)"
      ],
      "execution_count": null,
      "outputs": [
        {
          "output_type": "stream",
          "text": [
            "123蛤(123.456.789.012)蛤123\n"
          ],
          "name": "stdout"
        }
      ]
    },
    {
      "cell_type": "code",
      "metadata": {
        "id": "oD4zvB7hOj0t",
        "outputId": "934f616d-cfaf-42e8-c562-a52370cef13a",
        "colab": {
          "base_uri": "https://localhost:8080/"
        }
      },
      "source": [
        "# 提取字串內，需求的內容\n",
        "x = \"123蛤(123.456.7 89.012)蛤123\"\n",
        "print(x)\n",
        "y = \"\"\n",
        "print(\"==========\\n\")\n",
        "\n",
        "for a in x:\n",
        "  \n",
        "  if a == \"1\":\n",
        "    y += a\n",
        "  elif a == \"2\":\n",
        "    y += a\n",
        "  elif a == \"3\":\n",
        "    y += a\n",
        "  elif a == \"4\":\n",
        "    y += a\n",
        "  elif a == \"5\":\n",
        "    y += a\n",
        "  elif a == \"6\":\n",
        "    y += a\n",
        "  elif a == \"7\":\n",
        "    y += a\n",
        "  elif a == \"8\":\n",
        "    y += a\n",
        "  elif a == \"9\":\n",
        "    y += a\n",
        "  elif a == \"0\":\n",
        "    y += a\n",
        "  elif a == \".\":\n",
        "    y += a                \n",
        "  if a == '(':\n",
        "    continue\n",
        "  elif a == '':\n",
        "    continue\n",
        "  elif a == ')':\n",
        "    break\n",
        "\n",
        "print(\"a = \", a)\n",
        "print(\"\\n==========\\n\")\n",
        "print(\"x = \", x)\n",
        "print(\"y = \", y)"
      ],
      "execution_count": null,
      "outputs": [
        {
          "output_type": "stream",
          "text": [
            "123蛤(123.456.7 89.012)蛤123\n",
            "==========\n",
            "\n",
            "a =  )\n",
            "\n",
            "==========\n",
            "\n",
            "x =  123蛤(123.456.7 89.012)蛤123\n",
            "y =  123123.456.789.012\n"
          ],
          "name": "stdout"
        }
      ]
    },
    {
      "cell_type": "code",
      "metadata": {
        "id": "4ISfeTa6riRf",
        "outputId": "3a99a421-26a9-4be0-9fcb-bbcc3939708e",
        "colab": {
          "base_uri": "https://localhost:8080/"
        }
      },
      "source": [
        "x = \"123蛤(123.456.789.012)蛤\"\n",
        "print(\"x = \", x)"
      ],
      "execution_count": null,
      "outputs": [
        {
          "output_type": "stream",
          "text": [
            "x =  123蛤(123.456.789.012)蛤\n"
          ],
          "name": "stdout"
        }
      ]
    },
    {
      "cell_type": "code",
      "metadata": {
        "id": "90CSNYkKBtCO",
        "outputId": "163501b1-d583-4807-9da7-ff3ac8e0d82f",
        "colab": {
          "base_uri": "https://localhost:8080/"
        }
      },
      "source": [
        "# 一個具需求之外部，防呆的使用者輸入 ip 之判定演算法\n",
        "x               # user input\n",
        "y = \"\"\n",
        "c = 0\n",
        "for a in x:\n",
        "  if a == \"(\":\n",
        "    c = c + 1\n",
        "    while x[c] != \")\":\n",
        "      a = x[c]\n",
        "      c = c + 1\n",
        "      if a == \" \":\n",
        "        continue\n",
        "      y = y + a\n",
        "  c = c + 1\n",
        "print(y)"
      ],
      "execution_count": null,
      "outputs": [
        {
          "output_type": "stream",
          "text": [
            "123.456.789.012\n"
          ],
          "name": "stdout"
        }
      ]
    },
    {
      "cell_type": "code",
      "metadata": {
        "id": "uOppjpEdbT2_",
        "outputId": "6d961119-4d85-4bc8-dfc2-dacda96fc99e",
        "colab": {
          "base_uri": "https://localhost:8080/"
        }
      },
      "source": [
        "import re\n",
        "y = \"蛤123蛤.456.7 89.012蛤\"\n",
        "ans = re.findall((\"\\d\"), y)\n",
        "print(\"ans = \", ans)\n",
        "print(type(ans))\n",
        "ans = \"\".join(ans)\n",
        "print(\"ans = \", ans)\n",
        "print(type(ans))"
      ],
      "execution_count": null,
      "outputs": [
        {
          "output_type": "stream",
          "text": [
            "ans =  ['1', '2', '3', '4', '5', '6', '7', '8', '9', '0', '1', '2']\n",
            "<class 'list'>\n",
            "ans =  123456789012\n",
            "<class 'str'>\n"
          ],
          "name": "stdout"
        }
      ]
    }
  ]
}