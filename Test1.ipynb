{
  "nbformat": 4,
  "nbformat_minor": 0,
  "metadata": {
    "colab": {
      "name": "Test1.ipynb",
      "provenance": [],
      "collapsed_sections": [],
      "authorship_tag": "ABX9TyN9y/nMk3LS+YZd46THlEVu",
      "include_colab_link": true
    },
    "kernelspec": {
      "name": "python3",
      "display_name": "Python 3"
    }
  },
  "cells": [
    {
      "cell_type": "markdown",
      "metadata": {
        "id": "view-in-github",
        "colab_type": "text"
      },
      "source": [
        "<a href=\"https://colab.research.google.com/github/AreschanLHU/My_ML_Learn/blob/main/Test1.ipynb\" target=\"_parent\"><img src=\"https://colab.research.google.com/assets/colab-badge.svg\" alt=\"Open In Colab\"/></a>"
      ]
    },
    {
      "cell_type": "code",
      "metadata": {
        "id": "ETmoTG2WN1ln",
        "outputId": "79534082-697a-4600-cf7f-237ffb938cfc",
        "colab": {
          "base_uri": "https://localhost:8080/"
        }
      },
      "source": [
        "x = \"123蛤(123.456.789.012)蛤123\"\n",
        "print(x)"
      ],
      "execution_count": null,
      "outputs": [
        {
          "output_type": "stream",
          "text": [
            "123蛤(123.456.789.012)蛤123\n"
          ],
          "name": "stdout"
        }
      ]
    },
    {
      "cell_type": "code",
      "metadata": {
        "id": "oD4zvB7hOj0t",
        "outputId": "3c8e2d3a-0e6d-4e1a-de82-fdcb869abec8",
        "colab": {
          "base_uri": "https://localhost:8080/"
        }
      },
      "source": [
        "# 提取字串內，需求的內容\n",
        "x = \"123蛤(123.456.7 89.012)蛤123\"\n",
        "print(x)\n",
        "y = \"\"\n",
        "print(\"==========\\n\")\n",
        "\n",
        "for a in x:\n",
        "  \n",
        "  if a == \"1\":\n",
        "    y += a\n",
        "  elif a == \"2\":\n",
        "    y += a\n",
        "  elif a == \"3\":\n",
        "    y += a\n",
        "  elif a == \"4\":\n",
        "    y += a\n",
        "  elif a == \"5\":\n",
        "    y += a\n",
        "  elif a == \"6\":\n",
        "    y += a\n",
        "  elif a == \"7\":\n",
        "    y += a\n",
        "  elif a == \"8\":\n",
        "    y += a\n",
        "  elif a == \"9\":\n",
        "    y += a\n",
        "  elif a == \"0\":\n",
        "    y += a\n",
        "  elif a == \".\":\n",
        "    y += a                \n",
        "  if a == '(':\n",
        "    continue\n",
        "  elif a == '':\n",
        "    continue\n",
        "  elif a == ')':\n",
        "    break\n",
        "\n",
        "print(\"a = \", a)\n",
        "print(\"\\n==========\\n\")\n",
        "print(\"x = \", x)\n",
        "print(\"y = \", y)"
      ],
      "execution_count": null,
      "outputs": [
        {
          "output_type": "stream",
          "text": [
            "123蛤(123.456.7 89.012)蛤123\n",
            "==========\n",
            "\n",
            "a =  )\n",
            "\n",
            "==========\n",
            "\n",
            "x =  123蛤(123.456.7 89.012)蛤123\n",
            "y =  123123.456.789.012\n"
          ],
          "name": "stdout"
        }
      ]
    },
    {
      "cell_type": "code",
      "metadata": {
        "id": "4ISfeTa6riRf",
        "outputId": "f0b68552-598d-4c0a-e962-7dd4c9b6f1fa",
        "colab": {
          "base_uri": "https://localhost:8080/"
        }
      },
      "source": [
        "x = \"123蛤(123.456.789.012)蛤\"\n",
        "print(\"x = \", x)"
      ],
      "execution_count": null,
      "outputs": [
        {
          "output_type": "stream",
          "text": [
            "x =  123蛤(123.456.789.012)蛤\n"
          ],
          "name": "stdout"
        }
      ]
    },
    {
      "cell_type": "code",
      "metadata": {
        "id": "90CSNYkKBtCO",
        "outputId": "de83d323-acba-4269-b3f1-d577bac7f28d",
        "colab": {
          "base_uri": "https://localhost:8080/"
        }
      },
      "source": [
        "# 一個具需求之外部，防呆的使用者輸入 ip 之判定演算法\n",
        "x               # user input\n",
        "y = \"\"\n",
        "c = 0\n",
        "for a in x:\n",
        "  if a == \"(\":\n",
        "    c = c + 1\n",
        "    while x[c] != \")\":\n",
        "      a = x[c]\n",
        "      c = c + 1\n",
        "      if a == \" \":\n",
        "        continue\n",
        "      y = y + a\n",
        "  c = c + 1\n",
        "print(y)"
      ],
      "execution_count": null,
      "outputs": [
        {
          "output_type": "stream",
          "text": [
            "123.456.789.012\n"
          ],
          "name": "stdout"
        }
      ]
    },
    {
      "cell_type": "code",
      "metadata": {
        "id": "VaazIGXtKLQ_",
        "outputId": "723b4ed1-3af8-410b-b883-a35f20f2b746",
        "colab": {
          "base_uri": "https://localhost:8080/"
        }
      },
      "source": [
        "# Tkinter learn web : https://medium.com/kung-%E7%9A%84%E6%97%A5%E5%B8%B8/python-%E5%AD%B8%E7%BF%92%E7%AD%86%E8%A8%98-010-%E7%94%A8-tk-inter-%E6%A8%A1%E7%B5%84%E9%96%8B%E5%A7%8B%E8%A8%AD%E8%A8%88%E8%87%AA%E5%B7%B1%E7%9A%84%E7%A8%8B%E5%BC%8F%E4%BB%8B%E9%9D%A2%E5%90%A7-aa5e2f92f351\n",
        "# 是我會省略那個 while，用 for 跑完 x\n",
        "# 這樣可以不用在 while 裡確認 c + 1 會不會超過 x 範圍\n",
        "# 需要考慮 (( 的情況也可以用 bParenthesis 再限制\n",
        "x = \"123蛤(1蛤23.456.7 89.012)蛤\"\n",
        "P = 0\n",
        "cc = \"\"\n",
        "import re\n",
        "print(\"x = \", x)\n",
        "rx = re.findall(\"\\d|\\.|\\(|\\)\",x)\n",
        "print(\"rx = \",rx)\n",
        "# print(type(rx))\n",
        "# print(len(rx))\n",
        "for a in rx:\n",
        "  if a == \" \": # <- 要略過的寫一起\n",
        "    continue\n",
        "  if a == \"(\":\n",
        "    P = 1\n",
        "  elif a == \")\":\n",
        "    P = 0\n",
        "  elif P == 1:\n",
        "    cc = cc + a\n",
        "print(\"ans = \", cc)\n",
        "print(\"type = \", type(cc))\n"
      ],
      "execution_count": 9,
      "outputs": [
        {
          "output_type": "stream",
          "text": [
            "x =  123蛤(1蛤23.456.7 89.012)蛤\n",
            "rx =  ['1', '2', '3', '(', '1', '2', '3', '.', '4', '5', '6', '.', '7', '8', '9', '.', '0', '1', '2', ')']\n",
            "ans =  123.456.789.012\n",
            "type =  <class 'str'>\n"
          ],
          "name": "stdout"
        }
      ]
    }
  ]
}